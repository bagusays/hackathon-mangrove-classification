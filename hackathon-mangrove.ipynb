{
 "cells": [
  {
   "cell_type": "code",
   "execution_count": 1,
   "metadata": {},
   "outputs": [
    {
     "name": "stderr",
     "output_type": "stream",
     "text": [
      "Using TensorFlow backend.\n"
     ]
    }
   ],
   "source": [
    "import cv2                                         # working with, mainly resizing, images\n",
    "import numpy as np                                 # dealing with arrays\n",
    "import os                                          # dealing with directories\n",
    "from random import shuffle                         # mixing up or currently ordered data that might lead our network astray in training.\n",
    "from keras.models import Sequential                # creating sequential model of CNN\n",
    "from keras.layers import Conv2D             # creating convolution layer\n",
    "from keras.layers import MaxPooling2D              # creating maxpool layer\n",
    "from keras.layers import Flatten                   # creating input vector for dense layer\n",
    "from keras.layers import Dense                     # create dense layer or fully connected layer\n",
    "from keras.layers import Dropout                    # use to avoid overfitting by droping some parameters\n",
    "from keras.layers import Activation                   # use to avoid overfitting by droping some parameters\n",
    "from keras.layers import BatchNormalization                   # use to avoid overfitting by droping some parameters\n",
    "from keras.preprocessing import image              # generate image\n",
    "import matplotlib.pyplot as plt                    # use for visualization\n",
    "import warnings#\n",
    "from sklearn.metrics import f1_score\n",
    "from sklearn.metrics import classification_report\n",
    "from keras.constraints import maxnorm\n",
    "warnings.filterwarnings('ignore')\n",
    "import os\n",
    "import pandas as pd\n",
    "import matplotlib.pyplot as plt"
   ]
  },
  {
   "cell_type": "code",
   "execution_count": 2,
   "metadata": {},
   "outputs": [],
   "source": [
    "TRAIN_DIR = 'dataset/training'\n",
    "TEST_DIR = 'dataset/validation'\n",
    "IMG_SIZE = 110,110\n",
    "IMG_SIZE_VAR = 110"
   ]
  },
  {
   "cell_type": "code",
   "execution_count": 3,
   "metadata": {},
   "outputs": [],
   "source": [
    "image_names = []\n",
    "data_labels = []\n",
    "data_images = []"
   ]
  },
  {
   "cell_type": "code",
   "execution_count": 4,
   "metadata": {},
   "outputs": [],
   "source": [
    "def datasetProcessing(category):\n",
    "    for index, file in enumerate(os.listdir(os.path.join(TRAIN_DIR, category))):\n",
    "        if file.lower().endswith(\"JPG\") | file.lower().endswith(\"jpeg\") | file.lower().endswith(\"png\"):\n",
    "            image_names.append(os.path.join(TRAIN_DIR,category,file))\n",
    "            data_labels.append(category)\n",
    "            img = cv2.imread(os.path.join(TRAIN_DIR,category,file))\n",
    "            im = cv2.resize(img,IMG_SIZE)\n",
    "\n",
    "            data_images.append(im)\n",
    "        else:\n",
    "            continue\n",
    "\n",
    "    for index, file in enumerate(os.listdir(os.path.join(TEST_DIR, category))):\n",
    "        if file.lower().endswith(\"JPG\") | file.lower().endswith(\"jpeg\") | file.lower().endswith(\"png\"):\n",
    "            image_names.append(os.path.join(TEST_DIR,category,file))\n",
    "            data_labels.append(category)\n",
    "            img = cv2.imread(os.path.join(TEST_DIR,category,file))\n",
    "            im = cv2.resize(img,IMG_SIZE)\n",
    "\n",
    "            data_images.append(im)\n",
    "        else:\n",
    "            continue"
   ]
  },
  {
   "cell_type": "code",
   "execution_count": 5,
   "metadata": {
    "scrolled": true
   },
   "outputs": [],
   "source": [
    "datasetProcessing(\"tambak\")\n",
    "datasetProcessing(\"mangrove\")\n",
    "datasetProcessing(\"non-mangrove\")\n",
    "\n",
    "data = np.array(data_images)"
   ]
  },
  {
   "cell_type": "code",
   "execution_count": 6,
   "metadata": {},
   "outputs": [
    {
     "data": {
      "text/plain": [
       "(252, 110, 110, 3)"
      ]
     },
     "execution_count": 6,
     "metadata": {},
     "output_type": "execute_result"
    }
   ],
   "source": [
    "data.shape"
   ]
  },
  {
   "cell_type": "code",
   "execution_count": 7,
   "metadata": {},
   "outputs": [
    {
     "data": {
      "text/plain": [
       "['mangrove', 'non-mangrove', 'tambak']"
      ]
     },
     "execution_count": 7,
     "metadata": {},
     "output_type": "execute_result"
    }
   ],
   "source": [
    "from sklearn.preprocessing import LabelEncoder\n",
    "from keras.utils import np_utils\n",
    "\n",
    "le = LabelEncoder()\n",
    "label = le.fit_transform(data_labels)\n",
    "label_inverse = le.inverse_transform(np.unique(label)).tolist()\n",
    "label_inverse"
   ]
  },
  {
   "cell_type": "code",
   "execution_count": 8,
   "metadata": {},
   "outputs": [
    {
     "data": {
      "text/plain": [
       "([<matplotlib.axis.XTick at 0x7f54c0c56080>,\n",
       "  <matplotlib.axis.XTick at 0x7f54c0c37978>,\n",
       "  <matplotlib.axis.XTick at 0x7f54c0c376a0>],\n",
       " <a list of 3 Text xticklabel objects>)"
      ]
     },
     "execution_count": 8,
     "metadata": {},
     "output_type": "execute_result"
    },
    {
     "data": {
      "image/png": "[encoded data removed]",
      "text/plain": [
       "<Figure size 432x288 with 1 Axes>"
      ]
     },
     "metadata": {
      "needs_background": "light"
     },
     "output_type": "display_data"
    }
   ],
   "source": [
    "label = pd.DataFrame(label, columns=[\"val\"])\n",
    "labelx = label_inverse\n",
    "labelh = [label[label[\"val\"] == 0].count()[\"val\"], label[label[\"val\"] == 1].count()[\"val\"], label[label[\"val\"] == 2].count()[\"val\"]]\n",
    "\n",
    "plt.bar(x=labelx, height=labelh)\n",
    "plt.xticks(labelx)"
   ]
  },
  {
   "cell_type": "code",
   "execution_count": 9,
   "metadata": {},
   "outputs": [
    {
     "data": {
      "text/plain": [
       "(252, 110, 110, 3)"
      ]
     },
     "execution_count": 9,
     "metadata": {},
     "output_type": "execute_result"
    }
   ],
   "source": [
    "data.shape"
   ]
  },
  {
   "cell_type": "code",
   "execution_count": 10,
   "metadata": {
    "scrolled": true
   },
   "outputs": [
    {
     "name": "stdout",
     "output_type": "stream",
     "text": [
      "X_train shape (201, 110, 110, 3)\n",
      "X_test shape (51, 110, 110, 3)\n",
      "y_train shape (201, 3)\n",
      "y_test shape (51, 3)\n"
     ]
    }
   ],
   "source": [
    "from sklearn.model_selection import train_test_split\n",
    "\n",
    "X_train,X_val,y_train,y_val=train_test_split(data,label,test_size=0.20,random_state=42, stratify=label)\n",
    "\n",
    "X_train = X_train.astype('float32')\n",
    "X_val = X_val.astype('float32')\n",
    "X_train = X_train / 255.0\n",
    "X_val = X_val / 255.0\n",
    "\n",
    "y_train = np_utils.to_categorical(y_train)\n",
    "y_val = np_utils.to_categorical(y_val)\n",
    "class_num = y_val.shape[1]\n",
    "\n",
    "print(\"X_train shape\",X_train.shape)\n",
    "print(\"X_test shape\",X_val.shape)\n",
    "print(\"y_train shape\",y_train.shape)\n",
    "print(\"y_test shape\",y_val.shape)"
   ]
  },
  {
   "cell_type": "code",
   "execution_count": 58,
   "metadata": {
    "scrolled": false
   },
   "outputs": [
    {
     "name": "stdout",
     "output_type": "stream",
     "text": [
      "Train on 201 samples, validate on 51 samples\n",
      "Epoch 1/10\n",
      "201/201 [==============================] - 24s 119ms/step - loss: 1.8960 - acc: 0.5622 - val_loss: 5.5582 - val_acc: 0.4510\n",
      "Epoch 2/10\n",
      "201/201 [==============================] - 18s 89ms/step - loss: 0.9498 - acc: 0.7463 - val_loss: 5.0697 - val_acc: 0.5490\n",
      "Epoch 3/10\n",
      "201/201 [==============================] - 18s 90ms/step - loss: 0.4138 - acc: 0.8458 - val_loss: 4.9021 - val_acc: 0.5490\n",
      "Epoch 4/10\n",
      "201/201 [==============================] - 18s 88ms/step - loss: 0.3381 - acc: 0.8657 - val_loss: 2.2124 - val_acc: 0.6471\n",
      "Epoch 5/10\n",
      "201/201 [==============================] - 19s 96ms/step - loss: 0.2659 - acc: 0.9254 - val_loss: 0.6107 - val_acc: 0.8235\n",
      "Epoch 6/10\n",
      "201/201 [==============================] - 18s 87ms/step - loss: 0.1770 - acc: 0.9303 - val_loss: 0.6267 - val_acc: 0.8627\n",
      "Epoch 7/10\n",
      "201/201 [==============================] - 18s 88ms/step - loss: 0.1476 - acc: 0.9453 - val_loss: 0.6559 - val_acc: 0.8039\n",
      "Epoch 8/10\n",
      "201/201 [==============================] - 18s 88ms/step - loss: 0.1433 - acc: 0.9502 - val_loss: 0.6883 - val_acc: 0.7843\n",
      "Epoch 9/10\n",
      "201/201 [==============================] - 18s 89ms/step - loss: 0.1495 - acc: 0.9552 - val_loss: 0.6077 - val_acc: 0.6863\n",
      "Epoch 10/10\n",
      "201/201 [==============================] - 18s 92ms/step - loss: 0.1347 - acc: 0.9552 - val_loss: 1.3216 - val_acc: 0.6471\n"
     ]
    }
   ],
   "source": [
    "model = Sequential()\n",
    "model.add(Conv2D(128, (3, 3), padding='valid', input_shape=(IMG_SIZE_VAR, IMG_SIZE_VAR, 3)))\n",
    "model.add(Activation('relu'))\n",
    "model.add(MaxPooling2D(pool_size=(2, 2)))\n",
    "model.add(Dropout(0.1))\n",
    "model.add(BatchNormalization())\n",
    "    \n",
    "model.add(Conv2D(128, (3, 3), padding='valid', input_shape=(IMG_SIZE_VAR, IMG_SIZE_VAR, 3)))\n",
    "model.add(Activation('relu'))\n",
    "model.add(Dropout(0.1))\n",
    "model.add(BatchNormalization())\n",
    "\n",
    "model.add(Flatten(input_shape=(IMG_SIZE_VAR,IMG_SIZE_VAR)))\n",
    "# model.add(Dropout(0.2))\n",
    "\n",
    "model.add(Dense(128))\n",
    "model.add(Activation('relu'))\n",
    "# model.add(Dropout(0.2))\n",
    "model.add(BatchNormalization())\n",
    "model.add(Dense(3))\n",
    "model.add(Activation('softmax'))\n",
    "\n",
    "optimizer = 'adam'\n",
    "\n",
    "model.compile(loss='categorical_crossentropy', optimizer=optimizer, metrics=['accuracy'])\n",
    "\n",
    "History = model.fit(X_train, y_train, validation_data=(X_val, y_val), epochs=10, batch_size=64)"
   ]
  },
  {
   "cell_type": "markdown",
   "metadata": {},
   "source": [
    "# CAUTIION"
   ]
  },
  {
   "cell_type": "code",
   "execution_count": 18,
   "metadata": {},
   "outputs": [],
   "source": [
    "# model.save(\"model_82.h5\")\n",
    "from keras.models import load_model\n",
    "model = load_model('model_88.h5')"
   ]
  },
  {
   "cell_type": "code",
   "execution_count": 19,
   "metadata": {},
   "outputs": [
    {
     "name": "stdout",
     "output_type": "stream",
     "text": [
      "Accuracy: 88.24%\n",
      "[0.31897058148010105, 0.8823529435139076]\n"
     ]
    }
   ],
   "source": [
    "pred = model.predict(X_val)\n",
    "\n",
    "# Model evaluation\n",
    "scores = model.evaluate(X_val, y_val, verbose=0)\n",
    "print(\"Accuracy: %.2f%%\" % (scores[1]*100))\n",
    "print(scores)"
   ]
  },
  {
   "cell_type": "code",
   "execution_count": 20,
   "metadata": {},
   "outputs": [
    {
     "data": {
      "image/png": "[encoded data removed]",
      "text/plain": [
       "<Figure size 288x288 with 2 Axes>"
      ]
     },
     "metadata": {
      "needs_background": "light"
     },
     "output_type": "display_data"
    },
    {
     "name": "stdout",
     "output_type": "stream",
     "text": [
      "              precision    recall  f1-score   support\n",
      "\n",
      "    mangrove       1.00      0.93      0.97        15\n",
      "non-mangrove       0.78      0.70      0.74        10\n",
      "      tambak       0.86      0.92      0.89        26\n",
      "\n",
      "   micro avg       0.88      0.88      0.88        51\n",
      "   macro avg       0.88      0.85      0.86        51\n",
      "weighted avg       0.88      0.88      0.88        51\n",
      " samples avg       0.88      0.88      0.88        51\n",
      "\n"
     ]
    }
   ],
   "source": [
    "from sklearn.metrics import confusion_matrix\n",
    "import seaborn as sns\n",
    "\n",
    "cm = confusion_matrix(y_val.argmax(axis=1),pred.argmax(axis=1))\n",
    "\n",
    "f,ax = plt.subplots(figsize=(4, 4))\n",
    "sns.heatmap(cm, annot=True, linewidths=0.01,cmap=\"Purples\",linecolor=\"gray\", fmt= '.1f',ax=ax)\n",
    "plt.xlabel(\"Predicted Label\")\n",
    "plt.ylabel(\"True Label\")\n",
    "plt.title(\"Confusion Matrix\")\n",
    "plt.show()\n",
    "\n",
    "report = classification_report(y_val, np.around(pred), target_names=label_inverse)\n",
    "print(report)"
   ]
  },
  {
   "cell_type": "code",
   "execution_count": 21,
   "metadata": {},
   "outputs": [],
   "source": [
    "testing_label = []\n",
    "testing_data = []\n",
    "testing_name = []\n",
    "\n",
    "testing_dir = \"dataset/testing/\"\n",
    "\n",
    "for folder in os.listdir(testing_dir):        \n",
    "    for index, file in enumerate(os.listdir(os.path.join(testing_dir, folder))):\n",
    "        if file.lower().endswith(\"JPG\") | file.lower().endswith(\"jpeg\") | file.lower().endswith(\"png\"):\n",
    "            testing_name.append(os.path.join(testing_dir, folder, file))\n",
    "            testing_label.append(label_inverse.index(folder))\n",
    "            img = cv2.imread(os.path.join(testing_dir, folder, file))\n",
    "            im = cv2.resize(img,IMG_SIZE)\n",
    "#             im = im.reshape(64,64, 3)\n",
    "            \n",
    "            testing_data.append(im)\n",
    "\n",
    "testing_label = np.array(testing_label)\n",
    "testing_data = np.array(testing_data)\n",
    "\n",
    "testing_data = testing_data.astype('float32')\n",
    "testing_data = testing_data / 255.0\n",
    "\n",
    "testing_label = np_utils.to_categorical(testing_label)\n",
    "\n",
    "pred = model.predict(testing_data)"
   ]
  },
  {
   "cell_type": "code",
   "execution_count": 22,
   "metadata": {},
   "outputs": [
    {
     "data": {
      "text/html": [
       "<div>\n",
       "<style scoped>\n",
       "    .dataframe tbody tr th:only-of-type {\n",
       "        vertical-align: middle;\n",
       "    }\n",
       "\n",
       "    .dataframe tbody tr th {\n",
       "        vertical-align: top;\n",
       "    }\n",
       "\n",
       "    .dataframe thead th {\n",
       "        text-align: right;\n",
       "    }\n",
       "</style>\n",
       "<table border=\"1\" class=\"dataframe\">\n",
       "  <thead>\n",
       "    <tr style=\"text-align: right;\">\n",
       "      <th></th>\n",
       "      <th>file</th>\n",
       "      <th>true_label</th>\n",
       "      <th>predicted_label</th>\n",
       "      <th>prob</th>\n",
       "    </tr>\n",
       "  </thead>\n",
       "  <tbody>\n",
       "    <tr>\n",
       "      <th>0</th>\n",
       "      <td>dataset/testing/mangrove/1.A_rotate_270.png</td>\n",
       "      <td>0</td>\n",
       "      <td>0</td>\n",
       "      <td>0.627491</td>\n",
       "    </tr>\n",
       "    <tr>\n",
       "      <th>1</th>\n",
       "      <td>dataset/testing/mangrove/1.A_rotate_90.png</td>\n",
       "      <td>0</td>\n",
       "      <td>0</td>\n",
       "      <td>0.649743</td>\n",
       "    </tr>\n",
       "    <tr>\n",
       "      <th>2</th>\n",
       "      <td>dataset/testing/mangrove/1.A_rotate_360.png</td>\n",
       "      <td>0</td>\n",
       "      <td>2</td>\n",
       "      <td>0.537568</td>\n",
       "    </tr>\n",
       "    <tr>\n",
       "      <th>3</th>\n",
       "      <td>dataset/testing/mangrove/2.B_rotate_270.png</td>\n",
       "      <td>0</td>\n",
       "      <td>0</td>\n",
       "      <td>0.868030</td>\n",
       "    </tr>\n",
       "    <tr>\n",
       "      <th>4</th>\n",
       "      <td>dataset/testing/mangrove/2.B_rotate_90.png</td>\n",
       "      <td>0</td>\n",
       "      <td>0</td>\n",
       "      <td>0.825770</td>\n",
       "    </tr>\n",
       "    <tr>\n",
       "      <th>5</th>\n",
       "      <td>dataset/testing/mangrove/2.B_rotate_360.png</td>\n",
       "      <td>0</td>\n",
       "      <td>0</td>\n",
       "      <td>0.779673</td>\n",
       "    </tr>\n",
       "    <tr>\n",
       "      <th>6</th>\n",
       "      <td>dataset/testing/mangrove/2.B_rotate_180.png</td>\n",
       "      <td>0</td>\n",
       "      <td>0</td>\n",
       "      <td>0.788649</td>\n",
       "    </tr>\n",
       "    <tr>\n",
       "      <th>7</th>\n",
       "      <td>dataset/testing/mangrove/1.A_rotate_180.png</td>\n",
       "      <td>0</td>\n",
       "      <td>2</td>\n",
       "      <td>0.645073</td>\n",
       "    </tr>\n",
       "    <tr>\n",
       "      <th>8</th>\n",
       "      <td>dataset/testing/non-mangrove/22U_rotate_180.png</td>\n",
       "      <td>1</td>\n",
       "      <td>0</td>\n",
       "      <td>0.606730</td>\n",
       "    </tr>\n",
       "    <tr>\n",
       "      <th>9</th>\n",
       "      <td>dataset/testing/non-mangrove/21T_rotate_90.png</td>\n",
       "      <td>1</td>\n",
       "      <td>0</td>\n",
       "      <td>0.431933</td>\n",
       "    </tr>\n",
       "    <tr>\n",
       "      <th>10</th>\n",
       "      <td>dataset/testing/non-mangrove/22U_rotate_90.png</td>\n",
       "      <td>1</td>\n",
       "      <td>0</td>\n",
       "      <td>0.620606</td>\n",
       "    </tr>\n",
       "    <tr>\n",
       "      <th>11</th>\n",
       "      <td>dataset/testing/non-mangrove/21T_rotate_270.png</td>\n",
       "      <td>1</td>\n",
       "      <td>0</td>\n",
       "      <td>0.445287</td>\n",
       "    </tr>\n",
       "    <tr>\n",
       "      <th>12</th>\n",
       "      <td>dataset/testing/non-mangrove/22U_rotate_360.png</td>\n",
       "      <td>1</td>\n",
       "      <td>0</td>\n",
       "      <td>0.605088</td>\n",
       "    </tr>\n",
       "    <tr>\n",
       "      <th>13</th>\n",
       "      <td>dataset/testing/non-mangrove/21T_rotate_180.png</td>\n",
       "      <td>1</td>\n",
       "      <td>0</td>\n",
       "      <td>0.422805</td>\n",
       "    </tr>\n",
       "    <tr>\n",
       "      <th>14</th>\n",
       "      <td>dataset/testing/non-mangrove/21T_rotate_360.png</td>\n",
       "      <td>1</td>\n",
       "      <td>0</td>\n",
       "      <td>0.442729</td>\n",
       "    </tr>\n",
       "    <tr>\n",
       "      <th>15</th>\n",
       "      <td>dataset/testing/non-mangrove/22U_rotate_270.png</td>\n",
       "      <td>1</td>\n",
       "      <td>0</td>\n",
       "      <td>0.586558</td>\n",
       "    </tr>\n",
       "    <tr>\n",
       "      <th>16</th>\n",
       "      <td>dataset/testing/tambak/8_rotate_90.png</td>\n",
       "      <td>2</td>\n",
       "      <td>2</td>\n",
       "      <td>0.796221</td>\n",
       "    </tr>\n",
       "    <tr>\n",
       "      <th>17</th>\n",
       "      <td>dataset/testing/tambak/9_rotate_360.png</td>\n",
       "      <td>2</td>\n",
       "      <td>2</td>\n",
       "      <td>0.622951</td>\n",
       "    </tr>\n",
       "    <tr>\n",
       "      <th>18</th>\n",
       "      <td>dataset/testing/tambak/10_rotate_90.png</td>\n",
       "      <td>2</td>\n",
       "      <td>2</td>\n",
       "      <td>0.978469</td>\n",
       "    </tr>\n",
       "    <tr>\n",
       "      <th>19</th>\n",
       "      <td>dataset/testing/tambak/10_rotate_360.png</td>\n",
       "      <td>2</td>\n",
       "      <td>2</td>\n",
       "      <td>0.995659</td>\n",
       "    </tr>\n",
       "    <tr>\n",
       "      <th>20</th>\n",
       "      <td>dataset/testing/tambak/9_rotate_270.png</td>\n",
       "      <td>2</td>\n",
       "      <td>2</td>\n",
       "      <td>0.506743</td>\n",
       "    </tr>\n",
       "    <tr>\n",
       "      <th>21</th>\n",
       "      <td>dataset/testing/tambak/10_rotate_180.png</td>\n",
       "      <td>2</td>\n",
       "      <td>2</td>\n",
       "      <td>0.984105</td>\n",
       "    </tr>\n",
       "    <tr>\n",
       "      <th>22</th>\n",
       "      <td>dataset/testing/tambak/8_rotate_270.png</td>\n",
       "      <td>2</td>\n",
       "      <td>2</td>\n",
       "      <td>0.706278</td>\n",
       "    </tr>\n",
       "    <tr>\n",
       "      <th>23</th>\n",
       "      <td>dataset/testing/tambak/8_rotate_180.png</td>\n",
       "      <td>2</td>\n",
       "      <td>2</td>\n",
       "      <td>0.827309</td>\n",
       "    </tr>\n",
       "    <tr>\n",
       "      <th>24</th>\n",
       "      <td>dataset/testing/tambak/10_rotate_270.png</td>\n",
       "      <td>2</td>\n",
       "      <td>2</td>\n",
       "      <td>0.997058</td>\n",
       "    </tr>\n",
       "    <tr>\n",
       "      <th>25</th>\n",
       "      <td>dataset/testing/tambak/9_rotate_180.png</td>\n",
       "      <td>2</td>\n",
       "      <td>2</td>\n",
       "      <td>0.531683</td>\n",
       "    </tr>\n",
       "    <tr>\n",
       "      <th>26</th>\n",
       "      <td>dataset/testing/tambak/8_rotate_360.png</td>\n",
       "      <td>2</td>\n",
       "      <td>2</td>\n",
       "      <td>0.692922</td>\n",
       "    </tr>\n",
       "    <tr>\n",
       "      <th>27</th>\n",
       "      <td>dataset/testing/tambak/9_rotate_90.png</td>\n",
       "      <td>2</td>\n",
       "      <td>2</td>\n",
       "      <td>0.590815</td>\n",
       "    </tr>\n",
       "  </tbody>\n",
       "</table>\n",
       "</div>"
      ],
      "text/plain": [
       "                                               file  true_label  \\\n",
       "0       dataset/testing/mangrove/1.A_rotate_270.png           0   \n",
       "1        dataset/testing/mangrove/1.A_rotate_90.png           0   \n",
       "2       dataset/testing/mangrove/1.A_rotate_360.png           0   \n",
       "3       dataset/testing/mangrove/2.B_rotate_270.png           0   \n",
       "4        dataset/testing/mangrove/2.B_rotate_90.png           0   \n",
       "5       dataset/testing/mangrove/2.B_rotate_360.png           0   \n",
       "6       dataset/testing/mangrove/2.B_rotate_180.png           0   \n",
       "7       dataset/testing/mangrove/1.A_rotate_180.png           0   \n",
       "8   dataset/testing/non-mangrove/22U_rotate_180.png           1   \n",
       "9    dataset/testing/non-mangrove/21T_rotate_90.png           1   \n",
       "10   dataset/testing/non-mangrove/22U_rotate_90.png           1   \n",
       "11  dataset/testing/non-mangrove/21T_rotate_270.png           1   \n",
       "12  dataset/testing/non-mangrove/22U_rotate_360.png           1   \n",
       "13  dataset/testing/non-mangrove/21T_rotate_180.png           1   \n",
       "14  dataset/testing/non-mangrove/21T_rotate_360.png           1   \n",
       "15  dataset/testing/non-mangrove/22U_rotate_270.png           1   \n",
       "16           dataset/testing/tambak/8_rotate_90.png           2   \n",
       "17          dataset/testing/tambak/9_rotate_360.png           2   \n",
       "18          dataset/testing/tambak/10_rotate_90.png           2   \n",
       "19         dataset/testing/tambak/10_rotate_360.png           2   \n",
       "20          dataset/testing/tambak/9_rotate_270.png           2   \n",
       "21         dataset/testing/tambak/10_rotate_180.png           2   \n",
       "22          dataset/testing/tambak/8_rotate_270.png           2   \n",
       "23          dataset/testing/tambak/8_rotate_180.png           2   \n",
       "24         dataset/testing/tambak/10_rotate_270.png           2   \n",
       "25          dataset/testing/tambak/9_rotate_180.png           2   \n",
       "26          dataset/testing/tambak/8_rotate_360.png           2   \n",
       "27           dataset/testing/tambak/9_rotate_90.png           2   \n",
       "\n",
       "    predicted_label      prob  \n",
       "0                 0  0.627491  \n",
       "1                 0  0.649743  \n",
       "2                 2  0.537568  \n",
       "3                 0  0.868030  \n",
       "4                 0  0.825770  \n",
       "5                 0  0.779673  \n",
       "6                 0  0.788649  \n",
       "7                 2  0.645073  \n",
       "8                 0  0.606730  \n",
       "9                 0  0.431933  \n",
       "10                0  0.620606  \n",
       "11                0  0.445287  \n",
       "12                0  0.605088  \n",
       "13                0  0.422805  \n",
       "14                0  0.442729  \n",
       "15                0  0.586558  \n",
       "16                2  0.796221  \n",
       "17                2  0.622951  \n",
       "18                2  0.978469  \n",
       "19                2  0.995659  \n",
       "20                2  0.506743  \n",
       "21                2  0.984105  \n",
       "22                2  0.706278  \n",
       "23                2  0.827309  \n",
       "24                2  0.997058  \n",
       "25                2  0.531683  \n",
       "26                2  0.692922  \n",
       "27                2  0.590815  "
      ]
     },
     "execution_count": 22,
     "metadata": {},
     "output_type": "execute_result"
    }
   ],
   "source": [
    "from PIL import ImageFont, ImageDraw, Image\n",
    "\n",
    "df = pd.DataFrame()\n",
    "df['file'] = pd.Series(testing_name)\n",
    "df['true_label'] = pd.Series(testing_label.argmax(axis=1))\n",
    "df['predicted_label'] = pd.Series(pred.argmax(axis=1))\n",
    "df['prob'] = pd.Series(np.amax(pred, axis=1))\n",
    "\n",
    "df"
   ]
  },
  {
   "cell_type": "code",
   "execution_count": 23,
   "metadata": {},
   "outputs": [
    {
     "name": "stdout",
     "output_type": "stream",
     "text": [
      "Accuracy: 64.28571428571429\n"
     ]
    }
   ],
   "source": [
    "testing_series = pd.Series(pred.argmax(axis=1) == testing_label.argmax(axis=1))\n",
    "print(\"Accuracy:\", testing_series.value_counts()[True] / len(testing_series) * 100)"
   ]
  },
  {
   "cell_type": "code",
   "execution_count": 24,
   "metadata": {},
   "outputs": [
    {
     "data": {
      "image/png": "[encoded data removed]",
      "text/plain": [
       "<Figure size 288x288 with 2 Axes>"
      ]
     },
     "metadata": {
      "needs_background": "light"
     },
     "output_type": "display_data"
    },
    {
     "name": "stdout",
     "output_type": "stream",
     "text": [
      "              precision    recall  f1-score   support\n",
      "\n",
      "           0       0.43      0.75      0.55         8\n",
      "           2       0.86      1.00      0.92        12\n",
      "\n",
      "   micro avg       0.64      0.90      0.75        20\n",
      "   macro avg       0.64      0.88      0.73        20\n",
      "weighted avg       0.69      0.90      0.77        20\n",
      "\n"
     ]
    }
   ],
   "source": [
    "from sklearn.metrics import confusion_matrix\n",
    "import seaborn as sns\n",
    "\n",
    "cm = confusion_matrix(testing_label.argmax(axis=1),pred.argmax(axis=1))\n",
    "\n",
    "f,ax = plt.subplots(figsize=(4, 4))\n",
    "sns.heatmap(cm, annot=True, linewidths=0.01,cmap=\"Purples\",linecolor=\"gray\", fmt= '.1f',ax=ax)\n",
    "plt.xlabel(\"Predicted Label\")\n",
    "plt.ylabel(\"True Label\")\n",
    "plt.title(\"Confusion Matrix\")\n",
    "plt.show()\n",
    "\n",
    "report = classification_report(testing_label.argmax(axis=1), pred.argmax(axis=1), labels=np.unique(pred.argmax(axis=1)))\n",
    "print(report)"
   ]
  }
 ],
 "metadata": {
  "kernelspec": {
   "display_name": "Python 3",
   "language": "python",
   "name": "python3"
  },
  "language_info": {
   "codemirror_mode": {
    "name": "ipython",
    "version": 3
   },
   "file_extension": ".py",
   "mimetype": "text/x-python",
   "name": "python",
   "nbconvert_exporter": "python",
   "pygments_lexer": "ipython3",
   "version": "3.7.1"
  }
 },
 "nbformat": 4,
 "nbformat_minor": 2
}
